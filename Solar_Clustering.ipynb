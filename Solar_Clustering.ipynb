{
 "cells": [
  {
   "cell_type": "code",
   "execution_count": 1,
   "id": "ff9d82d5",
   "metadata": {},
   "outputs": [],
   "source": [
    "import import_ipynb\n",
    "import pandas as pd\n",
    "import numpy as np\n",
    "import matplotlib.pyplot as plt\n",
    "\n"
   ]
  },
  {
   "cell_type": "code",
   "execution_count": 2,
   "id": "cb999cf7",
   "metadata": {},
   "outputs": [
    {
     "name": "stdout",
     "output_type": "stream",
     "text": [
      "importing Jupyter notebook from Delhi_Analysis.ipynb\n"
     ]
    }
   ],
   "source": [
    "import Delhi_Analysis"
   ]
  },
  {
   "cell_type": "code",
   "execution_count": 3,
   "id": "c9769a38",
   "metadata": {},
   "outputs": [],
   "source": [
    "df_AHC = pd.DataFrame(Delhi_Analysis.df['DNI(MW)'])\n",
    "df_KMEANS = pd.DataFrame(Delhi_Analysis.df['DNI(MW)'])\n",
    "\n"
   ]
  },
  {
   "cell_type": "code",
   "execution_count": 4,
   "id": "5cfdf268",
   "metadata": {},
   "outputs": [],
   "source": [
    "\n",
    "from sklearn.cluster import AgglomerativeClustering\n",
    "from sklearn.cluster import KMeans"
   ]
  },
  {
   "cell_type": "code",
   "execution_count": 5,
   "id": "59b592e3",
   "metadata": {},
   "outputs": [],
   "source": [
    "#Using AHC"
   ]
  },
  {
   "cell_type": "code",
   "execution_count": 6,
   "id": "9abfd445",
   "metadata": {},
   "outputs": [],
   "source": [
    "c = [i for i in range(1 ,365)]\n",
    "WCSS = []\n",
    "\n",
    "for i in range(1 , 365) :\n",
    "    AHC = AgglomerativeClustering(n_clusters = i , affinity= 'euclidean' , linkage= 'ward')\n",
    "    df_AHC['cluster'] = AHC.fit_predict(df_AHC)\n",
    "    wcss = 0\n",
    "    for j in range (1 , i + 1):\n",
    "        curr = np.array(df_AHC[df_AHC.cluster == j - 1])\n",
    "        m = np.array(df_AHC[df_AHC.cluster == j - 1].median())\n",
    "        w = 0;\n",
    "        \n",
    "        for k in range(np.size(curr , axis = 0)) :\n",
    "            x = np.sum((curr[k] - m) ** 2)\n",
    "            w += x;\n",
    "        wcss +=  w\n",
    "    df_AHC.drop('cluster' , axis = 1 , inplace  = True)\n",
    "    WCSS.append(wcss)"
   ]
  },
  {
   "cell_type": "code",
   "execution_count": 7,
   "id": "3e00393e",
   "metadata": {},
   "outputs": [
    {
     "data": {
      "image/png": "[encoded data removed]",
      "text/plain": [
       "<Figure size 640x480 with 1 Axes>"
      ]
     },
     "metadata": {},
     "output_type": "display_data"
    }
   ],
   "source": [
    "plt.plot(c , WCSS)\n",
    "plt.xlabel('no of Clusteres')\n",
    "plt.ylabel('WCSS')\n",
    "plt.title('Scree Plot')\n",
    "plt.xlim(-2 , 50)\n",
    "plt.locator_params('x' , nbins =  50)"
   ]
  },
  {
   "cell_type": "code",
   "execution_count": 8,
   "id": "47b20b04",
   "metadata": {},
   "outputs": [
    {
     "data": {
      "text/html": [
       "<div>\n",
       "<style scoped>\n",
       "    .dataframe tbody tr th:only-of-type {\n",
       "        vertical-align: middle;\n",
       "    }\n",
       "\n",
       "    .dataframe tbody tr th {\n",
       "        vertical-align: top;\n",
       "    }\n",
       "\n",
       "    .dataframe thead th {\n",
       "        text-align: right;\n",
       "    }\n",
       "</style>\n",
       "<table border=\"1\" class=\"dataframe\">\n",
       "  <thead>\n",
       "    <tr style=\"text-align: right;\">\n",
       "      <th></th>\n",
       "      <th>DNI(MW)</th>\n",
       "      <th>size</th>\n",
       "    </tr>\n",
       "    <tr>\n",
       "      <th>clusters</th>\n",
       "      <th></th>\n",
       "      <th></th>\n",
       "    </tr>\n",
       "  </thead>\n",
       "  <tbody>\n",
       "    <tr>\n",
       "      <th>0</th>\n",
       "      <td>24314.748750</td>\n",
       "      <td>78</td>\n",
       "    </tr>\n",
       "    <tr>\n",
       "      <th>1</th>\n",
       "      <td>29456.302500</td>\n",
       "      <td>75</td>\n",
       "    </tr>\n",
       "    <tr>\n",
       "      <th>2</th>\n",
       "      <td>34958.092500</td>\n",
       "      <td>83</td>\n",
       "    </tr>\n",
       "    <tr>\n",
       "      <th>3</th>\n",
       "      <td>32101.363125</td>\n",
       "      <td>28</td>\n",
       "    </tr>\n",
       "    <tr>\n",
       "      <th>4</th>\n",
       "      <td>27319.646250</td>\n",
       "      <td>44</td>\n",
       "    </tr>\n",
       "    <tr>\n",
       "      <th>5</th>\n",
       "      <td>36561.583125</td>\n",
       "      <td>58</td>\n",
       "    </tr>\n",
       "  </tbody>\n",
       "</table>\n",
       "</div>"
      ],
      "text/plain": [
       "               DNI(MW)  size\n",
       "clusters                    \n",
       "0         24314.748750    78\n",
       "1         29456.302500    75\n",
       "2         34958.092500    83\n",
       "3         32101.363125    28\n",
       "4         27319.646250    44\n",
       "5         36561.583125    58"
      ]
     },
     "execution_count": 8,
     "metadata": {},
     "output_type": "execute_result"
    }
   ],
   "source": [
    "AHC = AgglomerativeClustering(n_clusters=6, affinity='euclidean' , linkage='ward')\n",
    "df_AHC['clusters'] = AHC.fit_predict(df_AHC)\n",
    "res_AHC = df_AHC.groupby('clusters').median()\n",
    "res_AHC['size'] = df_AHC.groupby('clusters').size()\n",
    "\n",
    "res_AHC"
   ]
  },
  {
   "cell_type": "code",
   "execution_count": 9,
   "id": "08747726",
   "metadata": {},
   "outputs": [
    {
     "name": "stderr",
     "output_type": "stream",
     "text": [
      "C:\\Users\\Dell\\AppData\\Local\\Temp\\ipykernel_3196\\3960308530.py:6: ConvergenceWarning: Number of distinct clusters (363) found smaller than n_clusters (364). Possibly due to duplicate points in X.\n",
      "  km.fit(df_KMEANS)\n",
      "C:\\Users\\Dell\\AppData\\Local\\Temp\\ipykernel_3196\\3960308530.py:6: ConvergenceWarning: Number of distinct clusters (363) found smaller than n_clusters (365). Possibly due to duplicate points in X.\n",
      "  km.fit(df_KMEANS)\n",
      "C:\\Users\\Dell\\AppData\\Local\\Temp\\ipykernel_3196\\3960308530.py:6: ConvergenceWarning: Number of distinct clusters (363) found smaller than n_clusters (366). Possibly due to duplicate points in X.\n",
      "  km.fit(df_KMEANS)\n"
     ]
    }
   ],
   "source": [
    "#using kmeans\n",
    "k_range = range(1 , 367)\n",
    "wcss = []\n",
    "for k in k_range : \n",
    "    km = KMeans(n_clusters = k)\n",
    "    km.fit(df_KMEANS)\n",
    "    wcss.append(km.inertia_)\n",
    "            "
   ]
  },
  {
   "cell_type": "code",
   "execution_count": 10,
   "id": "de730491",
   "metadata": {},
   "outputs": [
    {
     "data": {
      "image/png": "[encoded data removed]",
      "text/plain": [
       "<Figure size 640x480 with 1 Axes>"
      ]
     },
     "metadata": {},
     "output_type": "display_data"
    }
   ],
   "source": [
    "plt.plot(k_range , wcss)\n",
    "plt.xlabel('no of Clusteres')\n",
    "plt.ylabel('WCSS')\n",
    "plt.title('Scree Plot')\n",
    "plt.xlim(-2 , 50)\n",
    "plt.locator_params('x' , nbins =  50)"
   ]
  },
  {
   "cell_type": "code",
   "execution_count": 11,
   "id": "4cf1ca0b",
   "metadata": {
    "scrolled": true
   },
   "outputs": [
    {
     "data": {
      "text/html": [
       "<div>\n",
       "<style scoped>\n",
       "    .dataframe tbody tr th:only-of-type {\n",
       "        vertical-align: middle;\n",
       "    }\n",
       "\n",
       "    .dataframe tbody tr th {\n",
       "        vertical-align: top;\n",
       "    }\n",
       "\n",
       "    .dataframe thead th {\n",
       "        text-align: right;\n",
       "    }\n",
       "</style>\n",
       "<table border=\"1\" class=\"dataframe\">\n",
       "  <thead>\n",
       "    <tr style=\"text-align: right;\">\n",
       "      <th></th>\n",
       "      <th>DNI(MW)</th>\n",
       "      <th>size</th>\n",
       "    </tr>\n",
       "    <tr>\n",
       "      <th>clusters</th>\n",
       "      <th></th>\n",
       "      <th></th>\n",
       "    </tr>\n",
       "  </thead>\n",
       "  <tbody>\n",
       "    <tr>\n",
       "      <th>0</th>\n",
       "      <td>23888.216250</td>\n",
       "      <td>60</td>\n",
       "    </tr>\n",
       "    <tr>\n",
       "      <th>1</th>\n",
       "      <td>34938.523125</td>\n",
       "      <td>78</td>\n",
       "    </tr>\n",
       "    <tr>\n",
       "      <th>2</th>\n",
       "      <td>26916.277500</td>\n",
       "      <td>62</td>\n",
       "    </tr>\n",
       "    <tr>\n",
       "      <th>3</th>\n",
       "      <td>29355.660000</td>\n",
       "      <td>69</td>\n",
       "    </tr>\n",
       "    <tr>\n",
       "      <th>4</th>\n",
       "      <td>36463.736250</td>\n",
       "      <td>62</td>\n",
       "    </tr>\n",
       "    <tr>\n",
       "      <th>5</th>\n",
       "      <td>31806.225000</td>\n",
       "      <td>35</td>\n",
       "    </tr>\n",
       "  </tbody>\n",
       "</table>\n",
       "</div>"
      ],
      "text/plain": [
       "               DNI(MW)  size\n",
       "clusters                    \n",
       "0         23888.216250    60\n",
       "1         34938.523125    78\n",
       "2         26916.277500    62\n",
       "3         29355.660000    69\n",
       "4         36463.736250    62\n",
       "5         31806.225000    35"
      ]
     },
     "execution_count": 11,
     "metadata": {},
     "output_type": "execute_result"
    }
   ],
   "source": [
    "KM = KMeans(n_clusters=6)\n",
    "df_KMEANS['clusters'] = KM.fit_predict(df_KMEANS)\n",
    "res_KMEANS = df_KMEANS.groupby('clusters').median()\n",
    "res_KMEANS['size'] = df_KMEANS.groupby('clusters').size()\n",
    "res_KMEANS"
   ]
  },
  {
   "cell_type": "code",
   "execution_count": null,
   "id": "f97e3211",
   "metadata": {},
   "outputs": [],
   "source": []
  },
  {
   "cell_type": "code",
   "execution_count": 12,
   "id": "007b0844",
   "metadata": {},
   "outputs": [],
   "source": [
    "x = pd.read_csv('Central_Delhi.csv' , header = 10)\n",
    "df_AHC['MO'] = x['MO']\n",
    "df_AHC['DY'] = x['DY']\n",
    "df_KMEANS['MO'] = x['MO']\n",
    "df_KMEANS['DY'] = x['DY']"
   ]
  },
  {
   "cell_type": "code",
   "execution_count": 13,
   "id": "6b14b148",
   "metadata": {},
   "outputs": [
    {
     "data": {
      "text/html": [
       "<div>\n",
       "<style scoped>\n",
       "    .dataframe tbody tr th:only-of-type {\n",
       "        vertical-align: middle;\n",
       "    }\n",
       "\n",
       "    .dataframe tbody tr th {\n",
       "        vertical-align: top;\n",
       "    }\n",
       "\n",
       "    .dataframe thead th {\n",
       "        text-align: right;\n",
       "    }\n",
       "</style>\n",
       "<table border=\"1\" class=\"dataframe\">\n",
       "  <thead>\n",
       "    <tr style=\"text-align: right;\">\n",
       "      <th></th>\n",
       "      <th>DNI(MW)</th>\n",
       "      <th>clusters</th>\n",
       "      <th>MO</th>\n",
       "      <th>DY</th>\n",
       "    </tr>\n",
       "  </thead>\n",
       "  <tbody>\n",
       "    <tr>\n",
       "      <th>0</th>\n",
       "      <td>23342.67000</td>\n",
       "      <td>0</td>\n",
       "      <td>1</td>\n",
       "      <td>1</td>\n",
       "    </tr>\n",
       "    <tr>\n",
       "      <th>1</th>\n",
       "      <td>24588.72000</td>\n",
       "      <td>0</td>\n",
       "      <td>1</td>\n",
       "      <td>2</td>\n",
       "    </tr>\n",
       "    <tr>\n",
       "      <th>2</th>\n",
       "      <td>25130.27250</td>\n",
       "      <td>0</td>\n",
       "      <td>1</td>\n",
       "      <td>3</td>\n",
       "    </tr>\n",
       "    <tr>\n",
       "      <th>3</th>\n",
       "      <td>24912.21375</td>\n",
       "      <td>0</td>\n",
       "      <td>1</td>\n",
       "      <td>4</td>\n",
       "    </tr>\n",
       "    <tr>\n",
       "      <th>4</th>\n",
       "      <td>25028.83125</td>\n",
       "      <td>0</td>\n",
       "      <td>1</td>\n",
       "      <td>5</td>\n",
       "    </tr>\n",
       "    <tr>\n",
       "      <th>...</th>\n",
       "      <td>...</td>\n",
       "      <td>...</td>\n",
       "      <td>...</td>\n",
       "      <td>...</td>\n",
       "    </tr>\n",
       "    <tr>\n",
       "      <th>360</th>\n",
       "      <td>24456.12750</td>\n",
       "      <td>0</td>\n",
       "      <td>12</td>\n",
       "      <td>26</td>\n",
       "    </tr>\n",
       "    <tr>\n",
       "      <th>362</th>\n",
       "      <td>22055.08500</td>\n",
       "      <td>0</td>\n",
       "      <td>12</td>\n",
       "      <td>28</td>\n",
       "    </tr>\n",
       "    <tr>\n",
       "      <th>363</th>\n",
       "      <td>21632.54625</td>\n",
       "      <td>0</td>\n",
       "      <td>12</td>\n",
       "      <td>29</td>\n",
       "    </tr>\n",
       "    <tr>\n",
       "      <th>364</th>\n",
       "      <td>24198.93000</td>\n",
       "      <td>0</td>\n",
       "      <td>12</td>\n",
       "      <td>30</td>\n",
       "    </tr>\n",
       "    <tr>\n",
       "      <th>365</th>\n",
       "      <td>25679.01375</td>\n",
       "      <td>0</td>\n",
       "      <td>12</td>\n",
       "      <td>31</td>\n",
       "    </tr>\n",
       "  </tbody>\n",
       "</table>\n",
       "<p>78 rows × 4 columns</p>\n",
       "</div>"
      ],
      "text/plain": [
       "         DNI(MW)  clusters  MO  DY\n",
       "0    23342.67000         0   1   1\n",
       "1    24588.72000         0   1   2\n",
       "2    25130.27250         0   1   3\n",
       "3    24912.21375         0   1   4\n",
       "4    25028.83125         0   1   5\n",
       "..           ...       ...  ..  ..\n",
       "360  24456.12750         0  12  26\n",
       "362  22055.08500         0  12  28\n",
       "363  21632.54625         0  12  29\n",
       "364  24198.93000         0  12  30\n",
       "365  25679.01375         0  12  31\n",
       "\n",
       "[78 rows x 4 columns]"
      ]
     },
     "execution_count": 13,
     "metadata": {},
     "output_type": "execute_result"
    }
   ],
   "source": [
    "\n",
    "#loking for the patteren\n",
    "pd.set_option('display.max_rows', 10)\n",
    "df_AHC[df_AHC.clusters == 0]\n"
   ]
  },
  {
   "cell_type": "code",
   "execution_count": 14,
   "id": "f02002df",
   "metadata": {},
   "outputs": [
    {
     "data": {
      "text/html": [
       "<div>\n",
       "<style scoped>\n",
       "    .dataframe tbody tr th:only-of-type {\n",
       "        vertical-align: middle;\n",
       "    }\n",
       "\n",
       "    .dataframe tbody tr th {\n",
       "        vertical-align: top;\n",
       "    }\n",
       "\n",
       "    .dataframe thead th {\n",
       "        text-align: right;\n",
       "    }\n",
       "</style>\n",
       "<table border=\"1\" class=\"dataframe\">\n",
       "  <thead>\n",
       "    <tr style=\"text-align: right;\">\n",
       "      <th></th>\n",
       "      <th>DNI(MW)</th>\n",
       "      <th>clusters</th>\n",
       "      <th>MO</th>\n",
       "      <th>DY</th>\n",
       "    </tr>\n",
       "  </thead>\n",
       "  <tbody>\n",
       "    <tr>\n",
       "      <th>0</th>\n",
       "      <td>23342.67000</td>\n",
       "      <td>0</td>\n",
       "      <td>1</td>\n",
       "      <td>1</td>\n",
       "    </tr>\n",
       "    <tr>\n",
       "      <th>1</th>\n",
       "      <td>24588.72000</td>\n",
       "      <td>0</td>\n",
       "      <td>1</td>\n",
       "      <td>2</td>\n",
       "    </tr>\n",
       "    <tr>\n",
       "      <th>2</th>\n",
       "      <td>25130.27250</td>\n",
       "      <td>0</td>\n",
       "      <td>1</td>\n",
       "      <td>3</td>\n",
       "    </tr>\n",
       "    <tr>\n",
       "      <th>3</th>\n",
       "      <td>24912.21375</td>\n",
       "      <td>0</td>\n",
       "      <td>1</td>\n",
       "      <td>4</td>\n",
       "    </tr>\n",
       "    <tr>\n",
       "      <th>4</th>\n",
       "      <td>25028.83125</td>\n",
       "      <td>0</td>\n",
       "      <td>1</td>\n",
       "      <td>5</td>\n",
       "    </tr>\n",
       "    <tr>\n",
       "      <th>...</th>\n",
       "      <td>...</td>\n",
       "      <td>...</td>\n",
       "      <td>...</td>\n",
       "      <td>...</td>\n",
       "    </tr>\n",
       "    <tr>\n",
       "      <th>359</th>\n",
       "      <td>22781.14875</td>\n",
       "      <td>0</td>\n",
       "      <td>12</td>\n",
       "      <td>25</td>\n",
       "    </tr>\n",
       "    <tr>\n",
       "      <th>360</th>\n",
       "      <td>24456.12750</td>\n",
       "      <td>0</td>\n",
       "      <td>12</td>\n",
       "      <td>26</td>\n",
       "    </tr>\n",
       "    <tr>\n",
       "      <th>362</th>\n",
       "      <td>22055.08500</td>\n",
       "      <td>0</td>\n",
       "      <td>12</td>\n",
       "      <td>28</td>\n",
       "    </tr>\n",
       "    <tr>\n",
       "      <th>363</th>\n",
       "      <td>21632.54625</td>\n",
       "      <td>0</td>\n",
       "      <td>12</td>\n",
       "      <td>29</td>\n",
       "    </tr>\n",
       "    <tr>\n",
       "      <th>364</th>\n",
       "      <td>24198.93000</td>\n",
       "      <td>0</td>\n",
       "      <td>12</td>\n",
       "      <td>30</td>\n",
       "    </tr>\n",
       "  </tbody>\n",
       "</table>\n",
       "<p>60 rows × 4 columns</p>\n",
       "</div>"
      ],
      "text/plain": [
       "         DNI(MW)  clusters  MO  DY\n",
       "0    23342.67000         0   1   1\n",
       "1    24588.72000         0   1   2\n",
       "2    25130.27250         0   1   3\n",
       "3    24912.21375         0   1   4\n",
       "4    25028.83125         0   1   5\n",
       "..           ...       ...  ..  ..\n",
       "359  22781.14875         0  12  25\n",
       "360  24456.12750         0  12  26\n",
       "362  22055.08500         0  12  28\n",
       "363  21632.54625         0  12  29\n",
       "364  24198.93000         0  12  30\n",
       "\n",
       "[60 rows x 4 columns]"
      ]
     },
     "execution_count": 14,
     "metadata": {},
     "output_type": "execute_result"
    }
   ],
   "source": [
    "#Loking for pattern\n",
    "df_KMEANS[df_KMEANS.clusters == 0]"
   ]
  },
  {
   "cell_type": "code",
   "execution_count": null,
   "id": "923f49b7",
   "metadata": {},
   "outputs": [],
   "source": []
  }
 ],
 "metadata": {
  "kernelspec": {
   "display_name": "Python 3 (ipykernel)",
   "language": "python",
   "name": "python3"
  },
  "language_info": {
   "codemirror_mode": {
    "name": "ipython",
    "version": 3
   },
   "file_extension": ".py",
   "mimetype": "text/x-python",
   "name": "python",
   "nbconvert_exporter": "python",
   "pygments_lexer": "ipython3",
   "version": "3.9.13"
  }
 },
 "nbformat": 4,
 "nbformat_minor": 5
}
