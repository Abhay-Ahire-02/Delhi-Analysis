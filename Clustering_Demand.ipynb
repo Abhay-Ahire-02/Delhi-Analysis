{
 "cells": [
  {
   "cell_type": "code",
   "execution_count": 1,
   "id": "ff9d82d5",
   "metadata": {},
   "outputs": [],
   "source": [
    "import import_ipynb\n",
    "import pandas as pd\n",
    "import numpy as np\n",
    "import matplotlib.pyplot as plt\n",
    "\n"
   ]
  },
  {
   "cell_type": "code",
   "execution_count": 2,
   "id": "cb999cf7",
   "metadata": {},
   "outputs": [
    {
     "name": "stdout",
     "output_type": "stream",
     "text": [
      "importing Jupyter notebook from Demand_Data.ipynb\n"
     ]
    }
   ],
   "source": [
    "import Demand_Data"
   ]
  },
  {
   "cell_type": "code",
   "execution_count": 3,
   "id": "c9769a38",
   "metadata": {},
   "outputs": [],
   "source": [
    "df_AHC = pd.DataFrame(Demand_Data.df)\n",
    "df_KMEANS = pd.DataFrame(Demand_Data.df)\n",
    "\n",
    "\n",
    "\n"
   ]
  },
  {
   "cell_type": "code",
   "execution_count": 4,
   "id": "5cfdf268",
   "metadata": {},
   "outputs": [],
   "source": [
    "\n",
    "from sklearn.cluster import AgglomerativeClustering\n",
    "from sklearn.cluster import KMeans"
   ]
  },
  {
   "cell_type": "code",
   "execution_count": 5,
   "id": "59b592e3",
   "metadata": {},
   "outputs": [],
   "source": [
    "#Using AHC"
   ]
  },
  {
   "cell_type": "code",
   "execution_count": 6,
   "id": "9abfd445",
   "metadata": {},
   "outputs": [],
   "source": [
    "c = [i for i in range(1 ,365)]\n",
    "WCSS = []\n",
    "\n",
    "for i in range(1 , 365) :\n",
    "    AHC = AgglomerativeClustering(n_clusters = i , affinity= 'euclidean' , linkage= 'ward')\n",
    "    df_AHC['cluster'] = AHC.fit_predict(df_AHC)\n",
    "    wcss = 0\n",
    "    for j in range (1 , i + 1):\n",
    "        curr = np.array(df_AHC[df_AHC.cluster == j - 1])\n",
    "        m = np.array(df_AHC[df_AHC.cluster == j - 1].median())\n",
    "        w = 0;\n",
    "        \n",
    "        for k in range(np.size(curr , axis = 0)) :\n",
    "            x = np.sum((curr[k] - m) ** 2)\n",
    "            w += x;\n",
    "        wcss +=  w\n",
    "    df_AHC.drop('cluster' , axis = 1 , inplace  = True)\n",
    "    WCSS.append(wcss)"
   ]
  },
  {
   "cell_type": "code",
   "execution_count": 7,
   "id": "3e00393e",
   "metadata": {},
   "outputs": [
    {
     "data": {
      "image/png": "[encoded data removed]",
      "text/plain": [
       "<Figure size 640x480 with 1 Axes>"
      ]
     },
     "metadata": {},
     "output_type": "display_data"
    }
   ],
   "source": [
    "plt.plot(c , WCSS)\n",
    "plt.xlabel('no of clusteres')\n",
    "plt.ylabel('WCSS')\n",
    "plt.title('Scree Plot')\n",
    "plt.xlim(-2 , 50)\n",
    "plt.locator_params('x' , nbins =  50)"
   ]
  },
  {
   "cell_type": "code",
   "execution_count": 8,
   "id": "47b20b04",
   "metadata": {},
   "outputs": [
    {
     "data": {
      "text/html": [
       "<div>\n",
       "<style scoped>\n",
       "    .dataframe tbody tr th:only-of-type {\n",
       "        vertical-align: middle;\n",
       "    }\n",
       "\n",
       "    .dataframe tbody tr th {\n",
       "        vertical-align: top;\n",
       "    }\n",
       "\n",
       "    .dataframe thead th {\n",
       "        text-align: right;\n",
       "    }\n",
       "</style>\n",
       "<table border=\"1\" class=\"dataframe\">\n",
       "  <thead>\n",
       "    <tr style=\"text-align: right;\">\n",
       "      <th></th>\n",
       "      <th>Demand(MW)</th>\n",
       "      <th>size</th>\n",
       "    </tr>\n",
       "    <tr>\n",
       "      <th>clusters</th>\n",
       "      <th></th>\n",
       "      <th></th>\n",
       "    </tr>\n",
       "  </thead>\n",
       "  <tbody>\n",
       "    <tr>\n",
       "      <th>0</th>\n",
       "      <td>4891.108099</td>\n",
       "      <td>87</td>\n",
       "    </tr>\n",
       "    <tr>\n",
       "      <th>1</th>\n",
       "      <td>4095.804390</td>\n",
       "      <td>68</td>\n",
       "    </tr>\n",
       "    <tr>\n",
       "      <th>2</th>\n",
       "      <td>4555.430935</td>\n",
       "      <td>67</td>\n",
       "    </tr>\n",
       "    <tr>\n",
       "      <th>3</th>\n",
       "      <td>3485.239401</td>\n",
       "      <td>30</td>\n",
       "    </tr>\n",
       "    <tr>\n",
       "      <th>4</th>\n",
       "      <td>3807.919971</td>\n",
       "      <td>48</td>\n",
       "    </tr>\n",
       "    <tr>\n",
       "      <th>5</th>\n",
       "      <td>4318.648332</td>\n",
       "      <td>66</td>\n",
       "    </tr>\n",
       "  </tbody>\n",
       "</table>\n",
       "</div>"
      ],
      "text/plain": [
       "           Demand(MW)  size\n",
       "clusters                   \n",
       "0         4891.108099    87\n",
       "1         4095.804390    68\n",
       "2         4555.430935    67\n",
       "3         3485.239401    30\n",
       "4         3807.919971    48\n",
       "5         4318.648332    66"
      ]
     },
     "execution_count": 8,
     "metadata": {},
     "output_type": "execute_result"
    }
   ],
   "source": [
    "AHC = AgglomerativeClustering(n_clusters=6, affinity='euclidean' , linkage='ward')\n",
    "df_AHC['clusters'] = AHC.fit_predict(df_AHC)\n",
    "res_AHC = df_AHC.groupby('clusters').median()\n",
    "res_AHC['size'] = df_AHC.groupby('clusters').size()\n",
    "\n",
    "res_AHC"
   ]
  },
  {
   "cell_type": "code",
   "execution_count": 9,
   "id": "08747726",
   "metadata": {},
   "outputs": [
    {
     "name": "stderr",
     "output_type": "stream",
     "text": [
      "C:\\Users\\Dell\\AppData\\Local\\Temp\\ipykernel_8012\\3960308530.py:6: ConvergenceWarning: Number of distinct clusters (365) found smaller than n_clusters (366). Possibly due to duplicate points in X.\n",
      "  km.fit(df_KMEANS)\n"
     ]
    }
   ],
   "source": [
    "#using kmeans\n",
    "k_range = range(1 , 367)\n",
    "wcss = []\n",
    "for k in k_range : \n",
    "    km = KMeans(n_clusters = k)\n",
    "    km.fit(df_KMEANS)\n",
    "    wcss.append(km.inertia_)\n",
    "            "
   ]
  },
  {
   "cell_type": "code",
   "execution_count": 10,
   "id": "de730491",
   "metadata": {},
   "outputs": [
    {
     "data": {
      "image/png": "[encoded data removed]",
      "text/plain": [
       "<Figure size 640x480 with 1 Axes>"
      ]
     },
     "metadata": {},
     "output_type": "display_data"
    }
   ],
   "source": [
    "plt.plot(k_range , wcss)\n",
    "plt.xlabel('no of Clusteres')\n",
    "plt.ylabel('WCSS')\n",
    "plt.title('Scree Plot')\n",
    "plt.xlim(-2 , 50)\n",
    "plt.locator_params('x' , nbins =  50)"
   ]
  },
  {
   "cell_type": "code",
   "execution_count": 11,
   "id": "4cf1ca0b",
   "metadata": {
    "scrolled": true
   },
   "outputs": [
    {
     "data": {
      "text/html": [
       "<div>\n",
       "<style scoped>\n",
       "    .dataframe tbody tr th:only-of-type {\n",
       "        vertical-align: middle;\n",
       "    }\n",
       "\n",
       "    .dataframe tbody tr th {\n",
       "        vertical-align: top;\n",
       "    }\n",
       "\n",
       "    .dataframe thead th {\n",
       "        text-align: right;\n",
       "    }\n",
       "</style>\n",
       "<table border=\"1\" class=\"dataframe\">\n",
       "  <thead>\n",
       "    <tr style=\"text-align: right;\">\n",
       "      <th></th>\n",
       "      <th>Demand(MW)</th>\n",
       "      <th>size</th>\n",
       "    </tr>\n",
       "    <tr>\n",
       "      <th>clusters</th>\n",
       "      <th></th>\n",
       "      <th></th>\n",
       "    </tr>\n",
       "  </thead>\n",
       "  <tbody>\n",
       "    <tr>\n",
       "      <th>0</th>\n",
       "      <td>4388.669899</td>\n",
       "      <td>89</td>\n",
       "    </tr>\n",
       "    <tr>\n",
       "      <th>1</th>\n",
       "      <td>3827.331984</td>\n",
       "      <td>56</td>\n",
       "    </tr>\n",
       "    <tr>\n",
       "      <th>2</th>\n",
       "      <td>5038.516149</td>\n",
       "      <td>46</td>\n",
       "    </tr>\n",
       "    <tr>\n",
       "      <th>3</th>\n",
       "      <td>3485.239401</td>\n",
       "      <td>30</td>\n",
       "    </tr>\n",
       "    <tr>\n",
       "      <th>4</th>\n",
       "      <td>4726.237361</td>\n",
       "      <td>75</td>\n",
       "    </tr>\n",
       "    <tr>\n",
       "      <th>5</th>\n",
       "      <td>4129.981305</td>\n",
       "      <td>70</td>\n",
       "    </tr>\n",
       "  </tbody>\n",
       "</table>\n",
       "</div>"
      ],
      "text/plain": [
       "           Demand(MW)  size\n",
       "clusters                   \n",
       "0         4388.669899    89\n",
       "1         3827.331984    56\n",
       "2         5038.516149    46\n",
       "3         3485.239401    30\n",
       "4         4726.237361    75\n",
       "5         4129.981305    70"
      ]
     },
     "execution_count": 11,
     "metadata": {},
     "output_type": "execute_result"
    }
   ],
   "source": [
    "KM = KMeans(n_clusters=6)\n",
    "df_KMEANS.drop(['cluster'] , axis = 1 ,inplace = True)\n",
    "df_KMEANS['clusters'] =  KM.fit_predict(df_KMEANS)\n",
    "res_KMEANS = df_KMEANS.groupby('clusters').median()\n",
    "res_KMEANS['size'] = df_KMEANS.groupby('clusters').size()\n",
    "res_KMEANS"
   ]
  },
  {
   "cell_type": "code",
   "execution_count": 12,
   "id": "007b0844",
   "metadata": {},
   "outputs": [],
   "source": [
    "x = pd.read_csv('Central_Delhi.csv' , header = 10)\n",
    "df_AHC['MO'] = x['MO']\n",
    "df_AHC['DY'] = x['DY']\n",
    "df_KMEANS['MO'] = x['MO']\n",
    "df_KMEANS['DY'] = x['DY']"
   ]
  },
  {
   "cell_type": "code",
   "execution_count": 13,
   "id": "6b14b148",
   "metadata": {},
   "outputs": [
    {
     "data": {
      "text/html": [
       "<div>\n",
       "<style scoped>\n",
       "    .dataframe tbody tr th:only-of-type {\n",
       "        vertical-align: middle;\n",
       "    }\n",
       "\n",
       "    .dataframe tbody tr th {\n",
       "        vertical-align: top;\n",
       "    }\n",
       "\n",
       "    .dataframe thead th {\n",
       "        text-align: right;\n",
       "    }\n",
       "</style>\n",
       "<table border=\"1\" class=\"dataframe\">\n",
       "  <thead>\n",
       "    <tr style=\"text-align: right;\">\n",
       "      <th></th>\n",
       "      <th>Demand(MW)</th>\n",
       "      <th>clusters</th>\n",
       "      <th>MO</th>\n",
       "      <th>DY</th>\n",
       "    </tr>\n",
       "  </thead>\n",
       "  <tbody>\n",
       "    <tr>\n",
       "      <th>83</th>\n",
       "      <td>4780.504658</td>\n",
       "      <td>0</td>\n",
       "      <td>3</td>\n",
       "      <td>24</td>\n",
       "    </tr>\n",
       "    <tr>\n",
       "      <th>87</th>\n",
       "      <td>4745.607251</td>\n",
       "      <td>0</td>\n",
       "      <td>3</td>\n",
       "      <td>28</td>\n",
       "    </tr>\n",
       "    <tr>\n",
       "      <th>90</th>\n",
       "      <td>4746.676533</td>\n",
       "      <td>0</td>\n",
       "      <td>3</td>\n",
       "      <td>31</td>\n",
       "    </tr>\n",
       "    <tr>\n",
       "      <th>104</th>\n",
       "      <td>4929.189309</td>\n",
       "      <td>0</td>\n",
       "      <td>4</td>\n",
       "      <td>14</td>\n",
       "    </tr>\n",
       "    <tr>\n",
       "      <th>119</th>\n",
       "      <td>4737.611847</td>\n",
       "      <td>0</td>\n",
       "      <td>4</td>\n",
       "      <td>29</td>\n",
       "    </tr>\n",
       "    <tr>\n",
       "      <th>...</th>\n",
       "      <td>...</td>\n",
       "      <td>...</td>\n",
       "      <td>...</td>\n",
       "      <td>...</td>\n",
       "    </tr>\n",
       "    <tr>\n",
       "      <th>285</th>\n",
       "      <td>4790.957846</td>\n",
       "      <td>0</td>\n",
       "      <td>10</td>\n",
       "      <td>12</td>\n",
       "    </tr>\n",
       "    <tr>\n",
       "      <th>287</th>\n",
       "      <td>4856.668077</td>\n",
       "      <td>0</td>\n",
       "      <td>10</td>\n",
       "      <td>14</td>\n",
       "    </tr>\n",
       "    <tr>\n",
       "      <th>291</th>\n",
       "      <td>5108.539484</td>\n",
       "      <td>0</td>\n",
       "      <td>10</td>\n",
       "      <td>18</td>\n",
       "    </tr>\n",
       "    <tr>\n",
       "      <th>294</th>\n",
       "      <td>4987.329302</td>\n",
       "      <td>0</td>\n",
       "      <td>10</td>\n",
       "      <td>21</td>\n",
       "    </tr>\n",
       "    <tr>\n",
       "      <th>297</th>\n",
       "      <td>4732.754763</td>\n",
       "      <td>0</td>\n",
       "      <td>10</td>\n",
       "      <td>24</td>\n",
       "    </tr>\n",
       "  </tbody>\n",
       "</table>\n",
       "<p>87 rows × 4 columns</p>\n",
       "</div>"
      ],
      "text/plain": [
       "      Demand(MW)  clusters  MO  DY\n",
       "83   4780.504658         0   3  24\n",
       "87   4745.607251         0   3  28\n",
       "90   4746.676533         0   3  31\n",
       "104  4929.189309         0   4  14\n",
       "119  4737.611847         0   4  29\n",
       "..           ...       ...  ..  ..\n",
       "285  4790.957846         0  10  12\n",
       "287  4856.668077         0  10  14\n",
       "291  5108.539484         0  10  18\n",
       "294  4987.329302         0  10  21\n",
       "297  4732.754763         0  10  24\n",
       "\n",
       "[87 rows x 4 columns]"
      ]
     },
     "execution_count": 13,
     "metadata": {},
     "output_type": "execute_result"
    }
   ],
   "source": [
    "\n",
    "#loking for the patteren\n",
    "pd.set_option('display.max_rows', 10)\n",
    "df_AHC[df_AHC.clusters == 0]\n"
   ]
  },
  {
   "cell_type": "code",
   "execution_count": 14,
   "id": "f02002df",
   "metadata": {},
   "outputs": [
    {
     "data": {
      "text/html": [
       "<div>\n",
       "<style scoped>\n",
       "    .dataframe tbody tr th:only-of-type {\n",
       "        vertical-align: middle;\n",
       "    }\n",
       "\n",
       "    .dataframe tbody tr th {\n",
       "        vertical-align: top;\n",
       "    }\n",
       "\n",
       "    .dataframe thead th {\n",
       "        text-align: right;\n",
       "    }\n",
       "</style>\n",
       "<table border=\"1\" class=\"dataframe\">\n",
       "  <thead>\n",
       "    <tr style=\"text-align: right;\">\n",
       "      <th></th>\n",
       "      <th>Demand(MW)</th>\n",
       "      <th>clusters</th>\n",
       "      <th>MO</th>\n",
       "      <th>DY</th>\n",
       "    </tr>\n",
       "  </thead>\n",
       "  <tbody>\n",
       "    <tr>\n",
       "      <th>4</th>\n",
       "      <td>4397.674638</td>\n",
       "      <td>0</td>\n",
       "      <td>1</td>\n",
       "      <td>5</td>\n",
       "    </tr>\n",
       "    <tr>\n",
       "      <th>5</th>\n",
       "      <td>4284.484357</td>\n",
       "      <td>0</td>\n",
       "      <td>1</td>\n",
       "      <td>6</td>\n",
       "    </tr>\n",
       "    <tr>\n",
       "      <th>11</th>\n",
       "      <td>4443.358594</td>\n",
       "      <td>0</td>\n",
       "      <td>1</td>\n",
       "      <td>12</td>\n",
       "    </tr>\n",
       "    <tr>\n",
       "      <th>14</th>\n",
       "      <td>4281.831145</td>\n",
       "      <td>0</td>\n",
       "      <td>1</td>\n",
       "      <td>15</td>\n",
       "    </tr>\n",
       "    <tr>\n",
       "      <th>19</th>\n",
       "      <td>4316.670524</td>\n",
       "      <td>0</td>\n",
       "      <td>1</td>\n",
       "      <td>20</td>\n",
       "    </tr>\n",
       "    <tr>\n",
       "      <th>...</th>\n",
       "      <td>...</td>\n",
       "      <td>...</td>\n",
       "      <td>...</td>\n",
       "      <td>...</td>\n",
       "    </tr>\n",
       "    <tr>\n",
       "      <th>338</th>\n",
       "      <td>4353.885276</td>\n",
       "      <td>0</td>\n",
       "      <td>12</td>\n",
       "      <td>4</td>\n",
       "    </tr>\n",
       "    <tr>\n",
       "      <th>342</th>\n",
       "      <td>4284.314656</td>\n",
       "      <td>0</td>\n",
       "      <td>12</td>\n",
       "      <td>8</td>\n",
       "    </tr>\n",
       "    <tr>\n",
       "      <th>343</th>\n",
       "      <td>4295.636327</td>\n",
       "      <td>0</td>\n",
       "      <td>12</td>\n",
       "      <td>9</td>\n",
       "    </tr>\n",
       "    <tr>\n",
       "      <th>356</th>\n",
       "      <td>4368.829208</td>\n",
       "      <td>0</td>\n",
       "      <td>12</td>\n",
       "      <td>22</td>\n",
       "    </tr>\n",
       "    <tr>\n",
       "      <th>365</th>\n",
       "      <td>4328.653033</td>\n",
       "      <td>0</td>\n",
       "      <td>12</td>\n",
       "      <td>31</td>\n",
       "    </tr>\n",
       "  </tbody>\n",
       "</table>\n",
       "<p>89 rows × 4 columns</p>\n",
       "</div>"
      ],
      "text/plain": [
       "      Demand(MW)  clusters  MO  DY\n",
       "4    4397.674638         0   1   5\n",
       "5    4284.484357         0   1   6\n",
       "11   4443.358594         0   1  12\n",
       "14   4281.831145         0   1  15\n",
       "19   4316.670524         0   1  20\n",
       "..           ...       ...  ..  ..\n",
       "338  4353.885276         0  12   4\n",
       "342  4284.314656         0  12   8\n",
       "343  4295.636327         0  12   9\n",
       "356  4368.829208         0  12  22\n",
       "365  4328.653033         0  12  31\n",
       "\n",
       "[89 rows x 4 columns]"
      ]
     },
     "execution_count": 14,
     "metadata": {},
     "output_type": "execute_result"
    }
   ],
   "source": [
    "#Loking for pattern\n",
    "df_KMEANS[df_KMEANS.clusters == 0]"
   ]
  }
 ],
 "metadata": {
  "kernelspec": {
   "display_name": "Python 3 (ipykernel)",
   "language": "python",
   "name": "python3"
  },
  "language_info": {
   "codemirror_mode": {
    "name": "ipython",
    "version": 3
   },
   "file_extension": ".py",
   "mimetype": "text/x-python",
   "name": "python",
   "nbconvert_exporter": "python",
   "pygments_lexer": "ipython3",
   "version": "3.9.13"
  }
 },
 "nbformat": 4,
 "nbformat_minor": 5
}
