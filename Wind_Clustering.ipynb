{
 "cells": [
  {
   "cell_type": "code",
   "execution_count": 1,
   "id": "ff9d82d5",
   "metadata": {},
   "outputs": [],
   "source": [
    "import import_ipynb\n",
    "import pandas as pd\n",
    "import numpy as np\n",
    "import matplotlib.pyplot as plt\n",
    "\n"
   ]
  },
  {
   "cell_type": "code",
   "execution_count": 2,
   "id": "cb999cf7",
   "metadata": {},
   "outputs": [
    {
     "name": "stdout",
     "output_type": "stream",
     "text": [
      "importing Jupyter notebook from Delhi_Analysis.ipynb\n"
     ]
    }
   ],
   "source": [
    "import Delhi_Analysis"
   ]
  },
  {
   "cell_type": "code",
   "execution_count": 3,
   "id": "c9769a38",
   "metadata": {},
   "outputs": [],
   "source": [
    "df_AHC = pd.DataFrame(Delhi_Analysis.df['WIND SPEED(MW)'])\n",
    "df_KMEANS = pd.DataFrame(Delhi_Analysis.df['WIND SPEED(MW)'])\n",
    "\n"
   ]
  },
  {
   "cell_type": "code",
   "execution_count": 4,
   "id": "5cfdf268",
   "metadata": {},
   "outputs": [],
   "source": [
    "\n",
    "from sklearn.cluster import AgglomerativeClustering\n",
    "from sklearn.cluster import KMeans"
   ]
  },
  {
   "cell_type": "code",
   "execution_count": 5,
   "id": "59b592e3",
   "metadata": {},
   "outputs": [],
   "source": [
    "#Using AHC"
   ]
  },
  {
   "cell_type": "code",
   "execution_count": 6,
   "id": "9abfd445",
   "metadata": {},
   "outputs": [],
   "source": [
    "c = [i for i in range(1 ,365)]\n",
    "WCSS = []\n",
    "\n",
    "for i in range(1 , 365) :\n",
    "    AHC = AgglomerativeClustering(n_clusters = i , affinity= 'euclidean' , linkage= 'ward')\n",
    "    df_AHC['cluster'] = AHC.fit_predict(df_AHC)\n",
    "    wcss = 0\n",
    "    for j in range (1 , i + 1):\n",
    "        curr = np.array(df_AHC[df_AHC.cluster == j - 1])\n",
    "        m = np.array(df_AHC[df_AHC.cluster == j - 1].median())\n",
    "        w = 0;\n",
    "        \n",
    "        for k in range(np.size(curr , axis = 0)) :\n",
    "            x = np.sum((curr[k] - m) ** 2)\n",
    "            w += x;\n",
    "        wcss +=  w\n",
    "    df_AHC.drop('cluster' , axis = 1 , inplace  = True)\n",
    "    WCSS.append(wcss)"
   ]
  },
  {
   "cell_type": "code",
   "execution_count": 7,
   "id": "3e00393e",
   "metadata": {},
   "outputs": [
    {
     "data": {
      "image/png": "[encoded data removed]",
      "text/plain": [
       "<Figure size 640x480 with 1 Axes>"
      ]
     },
     "metadata": {},
     "output_type": "display_data"
    }
   ],
   "source": [
    "plt.plot(c , WCSS)\n",
    "plt.xlabel('no of Clusteres')\n",
    "plt.ylabel('WCSS')\n",
    "plt.title('Scree Plot')\n",
    "plt.xlim(-2 , 50)\n",
    "plt.locator_params('x' , nbins =  50)"
   ]
  },
  {
   "cell_type": "code",
   "execution_count": 8,
   "id": "47b20b04",
   "metadata": {},
   "outputs": [
    {
     "data": {
      "text/html": [
       "<div>\n",
       "<style scoped>\n",
       "    .dataframe tbody tr th:only-of-type {\n",
       "        vertical-align: middle;\n",
       "    }\n",
       "\n",
       "    .dataframe tbody tr th {\n",
       "        vertical-align: top;\n",
       "    }\n",
       "\n",
       "    .dataframe thead th {\n",
       "        text-align: right;\n",
       "    }\n",
       "</style>\n",
       "<table border=\"1\" class=\"dataframe\">\n",
       "  <thead>\n",
       "    <tr style=\"text-align: right;\">\n",
       "      <th></th>\n",
       "      <th>WIND SPEED(MW)</th>\n",
       "      <th>size</th>\n",
       "    </tr>\n",
       "    <tr>\n",
       "      <th>clusters</th>\n",
       "      <th></th>\n",
       "      <th></th>\n",
       "    </tr>\n",
       "  </thead>\n",
       "  <tbody>\n",
       "    <tr>\n",
       "      <th>0</th>\n",
       "      <td>2323.750790</td>\n",
       "      <td>217</td>\n",
       "    </tr>\n",
       "    <tr>\n",
       "      <th>1</th>\n",
       "      <td>18571.088609</td>\n",
       "      <td>28</td>\n",
       "    </tr>\n",
       "    <tr>\n",
       "      <th>2</th>\n",
       "      <td>28846.431037</td>\n",
       "      <td>5</td>\n",
       "    </tr>\n",
       "    <tr>\n",
       "      <th>3</th>\n",
       "      <td>6624.784139</td>\n",
       "      <td>73</td>\n",
       "    </tr>\n",
       "    <tr>\n",
       "      <th>4</th>\n",
       "      <td>10979.654506</td>\n",
       "      <td>41</td>\n",
       "    </tr>\n",
       "    <tr>\n",
       "      <th>5</th>\n",
       "      <td>42849.713830</td>\n",
       "      <td>2</td>\n",
       "    </tr>\n",
       "  </tbody>\n",
       "</table>\n",
       "</div>"
      ],
      "text/plain": [
       "          WIND SPEED(MW)  size\n",
       "clusters                      \n",
       "0            2323.750790   217\n",
       "1           18571.088609    28\n",
       "2           28846.431037     5\n",
       "3            6624.784139    73\n",
       "4           10979.654506    41\n",
       "5           42849.713830     2"
      ]
     },
     "execution_count": 8,
     "metadata": {},
     "output_type": "execute_result"
    }
   ],
   "source": [
    "AHC = AgglomerativeClustering(n_clusters=6, affinity='euclidean' , linkage='ward')\n",
    "df_AHC['clusters'] = AHC.fit_predict(df_AHC)\n",
    "res_AHC = df_AHC.groupby('clusters').median()\n",
    "res_AHC['size'] = df_AHC.groupby('clusters').size()\n",
    "\n",
    "res_AHC"
   ]
  },
  {
   "cell_type": "code",
   "execution_count": 9,
   "id": "08747726",
   "metadata": {},
   "outputs": [
    {
     "name": "stderr",
     "output_type": "stream",
     "text": [
      "C:\\Users\\Dell\\AppData\\Local\\Temp\\ipykernel_10316\\3960308530.py:6: ConvergenceWarning: Number of distinct clusters (365) found smaller than n_clusters (366). Possibly due to duplicate points in X.\n",
      "  km.fit(df_KMEANS)\n"
     ]
    }
   ],
   "source": [
    "#using kmeans\n",
    "k_range = range(1 , 367)\n",
    "wcss = []\n",
    "for k in k_range : \n",
    "    km = KMeans(n_clusters = k)\n",
    "    km.fit(df_KMEANS)\n",
    "    wcss.append(km.inertia_)\n",
    "            "
   ]
  },
  {
   "cell_type": "code",
   "execution_count": 10,
   "id": "de730491",
   "metadata": {},
   "outputs": [
    {
     "data": {
      "image/png": "[encoded data removed]",
      "text/plain": [
       "<Figure size 640x480 with 1 Axes>"
      ]
     },
     "metadata": {},
     "output_type": "display_data"
    }
   ],
   "source": [
    "plt.plot(k_range , wcss)\n",
    "plt.xlabel('no of Clusteres')\n",
    "plt.ylabel('WCSS')\n",
    "plt.title('Scree Plot')\n",
    "plt.xlim(-2 , 50)\n",
    "plt.locator_params('x' , nbins =  50)"
   ]
  },
  {
   "cell_type": "code",
   "execution_count": 11,
   "id": "4cf1ca0b",
   "metadata": {
    "scrolled": true
   },
   "outputs": [
    {
     "data": {
      "text/html": [
       "<div>\n",
       "<style scoped>\n",
       "    .dataframe tbody tr th:only-of-type {\n",
       "        vertical-align: middle;\n",
       "    }\n",
       "\n",
       "    .dataframe tbody tr th {\n",
       "        vertical-align: top;\n",
       "    }\n",
       "\n",
       "    .dataframe thead th {\n",
       "        text-align: right;\n",
       "    }\n",
       "</style>\n",
       "<table border=\"1\" class=\"dataframe\">\n",
       "  <thead>\n",
       "    <tr style=\"text-align: right;\">\n",
       "      <th></th>\n",
       "      <th>WIND SPEED(MW)</th>\n",
       "      <th>size</th>\n",
       "    </tr>\n",
       "    <tr>\n",
       "      <th>clusters</th>\n",
       "      <th></th>\n",
       "      <th></th>\n",
       "    </tr>\n",
       "  </thead>\n",
       "  <tbody>\n",
       "    <tr>\n",
       "      <th>0</th>\n",
       "      <td>1492.857981</td>\n",
       "      <td>130</td>\n",
       "    </tr>\n",
       "    <tr>\n",
       "      <th>1</th>\n",
       "      <td>19825.572251</td>\n",
       "      <td>22</td>\n",
       "    </tr>\n",
       "    <tr>\n",
       "      <th>2</th>\n",
       "      <td>7738.076215</td>\n",
       "      <td>56</td>\n",
       "    </tr>\n",
       "    <tr>\n",
       "      <th>3</th>\n",
       "      <td>32971.561227</td>\n",
       "      <td>6</td>\n",
       "    </tr>\n",
       "    <tr>\n",
       "      <th>4</th>\n",
       "      <td>12220.904697</td>\n",
       "      <td>38</td>\n",
       "    </tr>\n",
       "    <tr>\n",
       "      <th>5</th>\n",
       "      <td>3690.901802</td>\n",
       "      <td>114</td>\n",
       "    </tr>\n",
       "  </tbody>\n",
       "</table>\n",
       "</div>"
      ],
      "text/plain": [
       "          WIND SPEED(MW)  size\n",
       "clusters                      \n",
       "0            1492.857981   130\n",
       "1           19825.572251    22\n",
       "2            7738.076215    56\n",
       "3           32971.561227     6\n",
       "4           12220.904697    38\n",
       "5            3690.901802   114"
      ]
     },
     "execution_count": 11,
     "metadata": {},
     "output_type": "execute_result"
    }
   ],
   "source": [
    "KM = KMeans(n_clusters=6)\n",
    "df_KMEANS['clusters'] = KM.fit_predict(df_KMEANS)\n",
    "res_KMEANS = df_KMEANS.groupby('clusters').median()\n",
    "res_KMEANS['size'] = df_KMEANS.groupby('clusters').size()\n",
    "res_KMEANS"
   ]
  },
  {
   "cell_type": "code",
   "execution_count": null,
   "id": "f97e3211",
   "metadata": {},
   "outputs": [],
   "source": []
  },
  {
   "cell_type": "code",
   "execution_count": 12,
   "id": "007b0844",
   "metadata": {},
   "outputs": [],
   "source": [
    "x = pd.read_csv('Central_Delhi.csv' , header = 10)\n",
    "df_AHC['MO'] = x['MO']\n",
    "df_AHC['DY'] = x['DY']\n",
    "df_KMEANS['MO'] = x['MO']\n",
    "df_KMEANS['DY'] = x['DY']"
   ]
  },
  {
   "cell_type": "code",
   "execution_count": 13,
   "id": "6b14b148",
   "metadata": {},
   "outputs": [
    {
     "data": {
      "text/html": [
       "<div>\n",
       "<style scoped>\n",
       "    .dataframe tbody tr th:only-of-type {\n",
       "        vertical-align: middle;\n",
       "    }\n",
       "\n",
       "    .dataframe tbody tr th {\n",
       "        vertical-align: top;\n",
       "    }\n",
       "\n",
       "    .dataframe thead th {\n",
       "        text-align: right;\n",
       "    }\n",
       "</style>\n",
       "<table border=\"1\" class=\"dataframe\">\n",
       "  <thead>\n",
       "    <tr style=\"text-align: right;\">\n",
       "      <th></th>\n",
       "      <th>WIND SPEED(MW)</th>\n",
       "      <th>clusters</th>\n",
       "      <th>MO</th>\n",
       "      <th>DY</th>\n",
       "    </tr>\n",
       "  </thead>\n",
       "  <tbody>\n",
       "    <tr>\n",
       "      <th>0</th>\n",
       "      <td>2143.184008</td>\n",
       "      <td>0</td>\n",
       "      <td>1</td>\n",
       "      <td>1</td>\n",
       "    </tr>\n",
       "    <tr>\n",
       "      <th>1</th>\n",
       "      <td>1924.768852</td>\n",
       "      <td>0</td>\n",
       "      <td>1</td>\n",
       "      <td>2</td>\n",
       "    </tr>\n",
       "    <tr>\n",
       "      <th>2</th>\n",
       "      <td>1390.845116</td>\n",
       "      <td>0</td>\n",
       "      <td>1</td>\n",
       "      <td>3</td>\n",
       "    </tr>\n",
       "    <tr>\n",
       "      <th>3</th>\n",
       "      <td>2079.742118</td>\n",
       "      <td>0</td>\n",
       "      <td>1</td>\n",
       "      <td>4</td>\n",
       "    </tr>\n",
       "    <tr>\n",
       "      <th>4</th>\n",
       "      <td>3694.475289</td>\n",
       "      <td>0</td>\n",
       "      <td>1</td>\n",
       "      <td>5</td>\n",
       "    </tr>\n",
       "    <tr>\n",
       "      <th>...</th>\n",
       "      <td>...</td>\n",
       "      <td>...</td>\n",
       "      <td>...</td>\n",
       "      <td>...</td>\n",
       "    </tr>\n",
       "    <tr>\n",
       "      <th>344</th>\n",
       "      <td>3487.188037</td>\n",
       "      <td>0</td>\n",
       "      <td>12</td>\n",
       "      <td>10</td>\n",
       "    </tr>\n",
       "    <tr>\n",
       "      <th>345</th>\n",
       "      <td>2081.663967</td>\n",
       "      <td>0</td>\n",
       "      <td>12</td>\n",
       "      <td>11</td>\n",
       "    </tr>\n",
       "    <tr>\n",
       "      <th>346</th>\n",
       "      <td>3680.598015</td>\n",
       "      <td>0</td>\n",
       "      <td>12</td>\n",
       "      <td>12</td>\n",
       "    </tr>\n",
       "    <tr>\n",
       "      <th>356</th>\n",
       "      <td>4410.060775</td>\n",
       "      <td>0</td>\n",
       "      <td>12</td>\n",
       "      <td>22</td>\n",
       "    </tr>\n",
       "    <tr>\n",
       "      <th>361</th>\n",
       "      <td>3868.923818</td>\n",
       "      <td>0</td>\n",
       "      <td>12</td>\n",
       "      <td>27</td>\n",
       "    </tr>\n",
       "  </tbody>\n",
       "</table>\n",
       "<p>217 rows × 4 columns</p>\n",
       "</div>"
      ],
      "text/plain": [
       "     WIND SPEED(MW)  clusters  MO  DY\n",
       "0       2143.184008         0   1   1\n",
       "1       1924.768852         0   1   2\n",
       "2       1390.845116         0   1   3\n",
       "3       2079.742118         0   1   4\n",
       "4       3694.475289         0   1   5\n",
       "..              ...       ...  ..  ..\n",
       "344     3487.188037         0  12  10\n",
       "345     2081.663967         0  12  11\n",
       "346     3680.598015         0  12  12\n",
       "356     4410.060775         0  12  22\n",
       "361     3868.923818         0  12  27\n",
       "\n",
       "[217 rows x 4 columns]"
      ]
     },
     "execution_count": 13,
     "metadata": {},
     "output_type": "execute_result"
    }
   ],
   "source": [
    "\n",
    "#loking for the patteren\n",
    "pd.set_option('display.max_rows', 10)\n",
    "df_AHC[df_AHC.clusters == 0]\n"
   ]
  },
  {
   "cell_type": "code",
   "execution_count": 14,
   "id": "f02002df",
   "metadata": {},
   "outputs": [
    {
     "data": {
      "text/html": [
       "<div>\n",
       "<style scoped>\n",
       "    .dataframe tbody tr th:only-of-type {\n",
       "        vertical-align: middle;\n",
       "    }\n",
       "\n",
       "    .dataframe tbody tr th {\n",
       "        vertical-align: top;\n",
       "    }\n",
       "\n",
       "    .dataframe thead th {\n",
       "        text-align: right;\n",
       "    }\n",
       "</style>\n",
       "<table border=\"1\" class=\"dataframe\">\n",
       "  <thead>\n",
       "    <tr style=\"text-align: right;\">\n",
       "      <th></th>\n",
       "      <th>WIND SPEED(MW)</th>\n",
       "      <th>clusters</th>\n",
       "      <th>MO</th>\n",
       "      <th>DY</th>\n",
       "    </tr>\n",
       "  </thead>\n",
       "  <tbody>\n",
       "    <tr>\n",
       "      <th>0</th>\n",
       "      <td>2143.184008</td>\n",
       "      <td>0</td>\n",
       "      <td>1</td>\n",
       "      <td>1</td>\n",
       "    </tr>\n",
       "    <tr>\n",
       "      <th>1</th>\n",
       "      <td>1924.768852</td>\n",
       "      <td>0</td>\n",
       "      <td>1</td>\n",
       "      <td>2</td>\n",
       "    </tr>\n",
       "    <tr>\n",
       "      <th>2</th>\n",
       "      <td>1390.845116</td>\n",
       "      <td>0</td>\n",
       "      <td>1</td>\n",
       "      <td>3</td>\n",
       "    </tr>\n",
       "    <tr>\n",
       "      <th>3</th>\n",
       "      <td>2079.742118</td>\n",
       "      <td>0</td>\n",
       "      <td>1</td>\n",
       "      <td>4</td>\n",
       "    </tr>\n",
       "    <tr>\n",
       "      <th>10</th>\n",
       "      <td>2590.004117</td>\n",
       "      <td>0</td>\n",
       "      <td>1</td>\n",
       "      <td>11</td>\n",
       "    </tr>\n",
       "    <tr>\n",
       "      <th>...</th>\n",
       "      <td>...</td>\n",
       "      <td>...</td>\n",
       "      <td>...</td>\n",
       "      <td>...</td>\n",
       "    </tr>\n",
       "    <tr>\n",
       "      <th>338</th>\n",
       "      <td>554.952220</td>\n",
       "      <td>0</td>\n",
       "      <td>12</td>\n",
       "      <td>4</td>\n",
       "    </tr>\n",
       "    <tr>\n",
       "      <th>339</th>\n",
       "      <td>2460.054107</td>\n",
       "      <td>0</td>\n",
       "      <td>12</td>\n",
       "      <td>5</td>\n",
       "    </tr>\n",
       "    <tr>\n",
       "      <th>340</th>\n",
       "      <td>2749.501825</td>\n",
       "      <td>0</td>\n",
       "      <td>12</td>\n",
       "      <td>6</td>\n",
       "    </tr>\n",
       "    <tr>\n",
       "      <th>342</th>\n",
       "      <td>1491.702161</td>\n",
       "      <td>0</td>\n",
       "      <td>12</td>\n",
       "      <td>8</td>\n",
       "    </tr>\n",
       "    <tr>\n",
       "      <th>345</th>\n",
       "      <td>2081.663967</td>\n",
       "      <td>0</td>\n",
       "      <td>12</td>\n",
       "      <td>11</td>\n",
       "    </tr>\n",
       "  </tbody>\n",
       "</table>\n",
       "<p>130 rows × 4 columns</p>\n",
       "</div>"
      ],
      "text/plain": [
       "     WIND SPEED(MW)  clusters  MO  DY\n",
       "0       2143.184008         0   1   1\n",
       "1       1924.768852         0   1   2\n",
       "2       1390.845116         0   1   3\n",
       "3       2079.742118         0   1   4\n",
       "10      2590.004117         0   1  11\n",
       "..              ...       ...  ..  ..\n",
       "338      554.952220         0  12   4\n",
       "339     2460.054107         0  12   5\n",
       "340     2749.501825         0  12   6\n",
       "342     1491.702161         0  12   8\n",
       "345     2081.663967         0  12  11\n",
       "\n",
       "[130 rows x 4 columns]"
      ]
     },
     "execution_count": 14,
     "metadata": {},
     "output_type": "execute_result"
    }
   ],
   "source": [
    "#Loking for pattern\n",
    "df_KMEANS[df_KMEANS.clusters == 0]"
   ]
  },
  {
   "cell_type": "code",
   "execution_count": null,
   "id": "923f49b7",
   "metadata": {},
   "outputs": [],
   "source": []
  }
 ],
 "metadata": {
  "kernelspec": {
   "display_name": "Python 3 (ipykernel)",
   "language": "python",
   "name": "python3"
  },
  "language_info": {
   "codemirror_mode": {
    "name": "ipython",
    "version": 3
   },
   "file_extension": ".py",
   "mimetype": "text/x-python",
   "name": "python",
   "nbconvert_exporter": "python",
   "pygments_lexer": "ipython3",
   "version": "3.9.13"
  }
 },
 "nbformat": 4,
 "nbformat_minor": 5
}
